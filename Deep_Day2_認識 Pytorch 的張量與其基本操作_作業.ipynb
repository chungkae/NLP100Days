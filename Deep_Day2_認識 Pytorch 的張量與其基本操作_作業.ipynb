{
 "cells": [
  {
   "cell_type": "markdown",
   "metadata": {},
   "source": [
    "### 作業目的: 更加熟習pytorch的tensor操作\n",
    "\n",
    "pytorch中有提供很多的API，讓使用者針對tensor進行各式各樣的操作，本次的作業希望讀者由pytorch的[官方網站](https://pytorch.org/docs/stable/torch.html)中選定四個針對tensor操作的API，對他的使用方法進行範例操作演練。"
   ]
  },
  {
   "cell_type": "markdown",
   "metadata": {},
   "source": [
    "### 選定的API 函數\n",
    "\n",
    "**請寫下選定的API functions**\n",
    "\n",
    "ex:\n",
    "* torch.from_array() / tensor.numpy()\n",
    "* torch.unsqueeze() / torch.squeeze()\n",
    "* tensor.transpose() / tensor.permute()\n",
    "* torch.reshape() / tensor.view()"
   ]
  },
  {
   "cell_type": "code",
   "execution_count": 3,
   "metadata": {},
   "outputs": [],
   "source": [
    "# Import torch and other required modules\n",
    "import torch\n",
    "import numpy as np"
   ]
  },
  {
   "cell_type": "markdown",
   "metadata": {},
   "source": [
    "### 範例:\n",
    "### Function 1 - torch.from_array() / tensor.numpy()"
   ]
  },
  {
   "cell_type": "code",
   "execution_count": 4,
   "metadata": {},
   "outputs": [
    {
     "name": "stdout",
     "output_type": "stream",
     "text": [
      "a: <class 'numpy.ndarray'>, float64\n",
      "b: <class 'torch.Tensor'>, torch.float64\n",
      "c: <class 'torch.Tensor'>, torch.float64\n",
      "d: <class 'numpy.ndarray'>, float64\n"
     ]
    }
   ],
   "source": [
    "# Example 1 - 將torch tensor與numpy ndarray互相轉換\n",
    "a = np.random.rand(1,2,3,3)\n",
    "print(f'a: {type(a)}, {a.dtype}')\n",
    "b = torch.from_numpy(a)\n",
    "print(f'b: {type(b)}, {b.dtype}')\n",
    "c = torch.tensor(a)\n",
    "print(f'c: {type(c)}, {c.dtype}')\n",
    "d = c.numpy()\n",
    "print(f'd: {type(d)}, {d.dtype}')"
   ]
  },
  {
   "cell_type": "code",
   "execution_count": 5,
   "metadata": {},
   "outputs": [
    {
     "name": "stdout",
     "output_type": "stream",
     "text": [
      "a: <class 'numpy.ndarray'>, int64\n",
      "b: <class 'torch.Tensor'>, torch.int64\n",
      "c: <class 'torch.Tensor'>, torch.int64\n",
      "d: <class 'numpy.ndarray'>, int64\n"
     ]
    }
   ],
   "source": [
    "# Example 2 - 經過轉換後，torch tensor與numpy array依然有相近的資料型態\n",
    "a = np.random.randint(low=0, high=10, size=(2,2))\n",
    "print(f'a: {type(a)}, {a.dtype}')\n",
    "b = torch.from_numpy(a)\n",
    "print(f'b: {type(b)}, {b.dtype}')\n",
    "c = torch.tensor(a)\n",
    "print(f'c: {type(c)}, {c.dtype}')\n",
    "d = c.numpy()\n",
    "print(f'd: {type(d)}, {d.dtype}')"
   ]
  },
  {
   "cell_type": "code",
   "execution_count": 6,
   "metadata": {},
   "outputs": [
    {
     "name": "stdout",
     "output_type": "stream",
     "text": [
      "torch.Size([2, 3]) torch.Size([3])\n"
     ]
    },
    {
     "data": {
      "text/plain": [
       "(tensor([[ 1.6510,  0.1553, -0.4452],\n",
       "         [ 0.6247, -0.6139,  0.1907]]), tensor([-1.1390,  0.2147, -0.5660]))"
      ]
     },
     "execution_count": 6,
     "metadata": {},
     "output_type": "execute_result"
    }
   ],
   "source": [
    "# 創建tensor\n",
    "a = torch.randn((2,3))\n",
    "b = torch.randn(3)\n",
    "print(a.shape, b.shape)\n",
    "a, b"
   ]
  },
  {
   "cell_type": "markdown",
   "metadata": {},
   "source": [
    "### Function 1 - torch.add(a,b)"
   ]
  },
  {
   "cell_type": "code",
   "execution_count": 7,
   "metadata": {},
   "outputs": [
    {
     "name": "stdout",
     "output_type": "stream",
     "text": [
      "torch.Size([2, 3]) torch.Size([2, 3])\n"
     ]
    },
    {
     "data": {
      "text/plain": [
       "(tensor([[ 0.5120,  0.3700, -1.0112],\n",
       "         [-0.5143, -0.3992, -0.3753]]), tensor([[ 0.5120,  0.3700, -1.0112],\n",
       "         [-0.5143, -0.3992, -0.3753]]))"
      ]
     },
     "execution_count": 7,
     "metadata": {},
     "output_type": "execute_result"
    }
   ],
   "source": [
    "# Example 1 - ### 相加\n",
    "t_add1 = a + b\n",
    "t_add2 = torch.add(a,b)\n",
    "print(t_add1.shape, t_add2.shape)\n",
    "t_add1, t_add2"
   ]
  },
  {
   "cell_type": "markdown",
   "metadata": {},
   "source": [
    "### Function 2 - torch.sub(a,b)"
   ]
  },
  {
   "cell_type": "code",
   "execution_count": 8,
   "metadata": {},
   "outputs": [
    {
     "name": "stdout",
     "output_type": "stream",
     "text": [
      "torch.Size([2, 3]) torch.Size([2, 3])\n"
     ]
    },
    {
     "data": {
      "text/plain": [
       "(tensor([[ 2.7899, -0.0594,  0.1208],\n",
       "         [ 1.7636, -0.8287,  0.7566]]), tensor([[ 2.7899, -0.0594,  0.1208],\n",
       "         [ 1.7636, -0.8287,  0.7566]]))"
      ]
     },
     "execution_count": 8,
     "metadata": {},
     "output_type": "execute_result"
    }
   ],
   "source": [
    "# Example 1 - 相減\n",
    "t_sub1 = a - b\n",
    "t_sub2 = torch.sub(a,b)\n",
    "print(t_sub1.shape, t_sub2.shape)\n",
    "t_sub1, t_sub2"
   ]
  },
  {
   "cell_type": "markdown",
   "metadata": {},
   "source": [
    "### Function 3 - torch.div"
   ]
  },
  {
   "cell_type": "code",
   "execution_count": 9,
   "metadata": {},
   "outputs": [
    {
     "name": "stdout",
     "output_type": "stream",
     "text": [
      "torch.Size([2, 3]) torch.Size([2, 3])\n"
     ]
    },
    {
     "data": {
      "text/plain": [
       "(tensor([[-1.4495,  0.7232,  0.7866],\n",
       "         [-0.5485, -2.8589, -0.3369]]), tensor([[-1.4495,  0.7232,  0.7866],\n",
       "         [-0.5485, -2.8589, -0.3369]]))"
      ]
     },
     "execution_count": 9,
     "metadata": {},
     "output_type": "execute_result"
    }
   ],
   "source": [
    "# 相除\n",
    "t_div1 = a / b\n",
    "t_div2 = torch.div(a,b)\n",
    "print(t_div1.shape, t_div2.shape)\n",
    "t_div1, t_div2"
   ]
  },
  {
   "cell_type": "code",
   "execution_count": 12,
   "metadata": {},
   "outputs": [
    {
     "name": "stdout",
     "output_type": "stream",
     "text": [
      "torch.Size([2, 3, 2])\n"
     ]
    },
    {
     "data": {
      "text/plain": [
       "tensor([[[-0.3056,  0.7468],\n",
       "         [-1.2821, -0.5625],\n",
       "         [-0.2622, -0.3867]],\n",
       "\n",
       "        [[-0.1578,  0.5157],\n",
       "         [ 1.2944,  1.4754],\n",
       "         [ 1.3086,  0.5624]]])"
      ]
     },
     "execution_count": 12,
     "metadata": {},
     "output_type": "execute_result"
    }
   ],
   "source": [
    "# 創建tensor\n",
    "a = torch.randn((2,3,2))\n",
    "\n",
    "print(a.shape)\n",
    "a"
   ]
  },
  {
   "cell_type": "markdown",
   "metadata": {},
   "source": [
    "### Function 4 - torch.reshape / torch.view"
   ]
  },
  {
   "cell_type": "code",
   "execution_count": 13,
   "metadata": {},
   "outputs": [
    {
     "name": "stdout",
     "output_type": "stream",
     "text": [
      "torch.Size([2, 6]) torch.Size([2, 6]) torch.Size([2, 6])\n"
     ]
    },
    {
     "data": {
      "text/plain": [
       "(tensor([[-0.3056,  0.7468, -1.2821, -0.5625, -0.2622, -0.3867],\n",
       "         [-0.1578,  0.5157,  1.2944,  1.4754,  1.3086,  0.5624]]),\n",
       " tensor([[-0.3056,  0.7468, -1.2821, -0.5625, -0.2622, -0.3867],\n",
       "         [-0.1578,  0.5157,  1.2944,  1.4754,  1.3086,  0.5624]]),\n",
       " tensor([[-0.3056,  0.7468, -1.2821, -0.5625, -0.2622, -0.3867],\n",
       "         [-0.1578,  0.5157,  1.2944,  1.4754,  1.3086,  0.5624]]))"
      ]
     },
     "execution_count": 13,
     "metadata": {},
     "output_type": "execute_result"
    }
   ],
   "source": [
    "# 將tensor形狀由[2,2,3]改為[2,6]\n",
    "b = a.reshape(2, 6)\n",
    "c = a.view(2, 6)\n",
    "d = a.reshape(2, -1)\n",
    "print(b.shape, c.shape, d.shape)\n",
    "b,c,d"
   ]
  },
  {
   "cell_type": "code",
   "execution_count": 14,
   "metadata": {},
   "outputs": [
    {
     "name": "stdout",
     "output_type": "stream",
     "text": [
      "torch.Size([2, 2, 3]) torch.Size([2, 2, 3])\n"
     ]
    },
    {
     "data": {
      "text/plain": [
       "(tensor([[[-0.3056, -1.2821, -0.2622],\n",
       "          [ 0.7468, -0.5625, -0.3867]],\n",
       " \n",
       "         [[-0.1578,  1.2944,  1.3086],\n",
       "          [ 0.5157,  1.4754,  0.5624]]]), tensor([[[-0.3056, -1.2821, -0.2622],\n",
       "          [ 0.7468, -0.5625, -0.3867]],\n",
       " \n",
       "         [[-0.1578,  1.2944,  1.3086],\n",
       "          [ 0.5157,  1.4754,  0.5624]]]))"
      ]
     },
     "execution_count": 14,
     "metadata": {},
     "output_type": "execute_result"
    }
   ],
   "source": [
    "# Example 2 - ### your explanation ###\n",
    "# 調換tensor維度\n",
    "e = a.permute((0, 2, 1))\n",
    "f = a.transpose(1,2)\n",
    "print(e.shape, f.shape)\n",
    "e, f"
   ]
  },
  {
   "cell_type": "code",
   "execution_count": 15,
   "metadata": {},
   "outputs": [
    {
     "name": "stdout",
     "output_type": "stream",
     "text": [
      "torch.Size([2, 1, 3, 2]) torch.Size([2, 3, 2])\n"
     ]
    }
   ],
   "source": [
    "# 增加張量維度\n",
    "g = torch.unsqueeze(a, dim=1) #增加維度在1的位置\n",
    "h = torch.squeeze(g) #壓縮為度為1的位置\n",
    "print(g.shape, h.shape)"
   ]
  }
 ],
 "metadata": {
  "kernelspec": {
   "display_name": "Python 3",
   "language": "python",
   "name": "python3"
  },
  "language_info": {
   "codemirror_mode": {
    "name": "ipython",
    "version": 3
   },
   "file_extension": ".py",
   "mimetype": "text/x-python",
   "name": "python",
   "nbconvert_exporter": "python",
   "pygments_lexer": "ipython3",
   "version": "3.7.4"
  }
 },
 "nbformat": 4,
 "nbformat_minor": 2
}
